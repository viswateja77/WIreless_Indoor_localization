{
 "cells": [
  {
   "cell_type": "code",
   "execution_count": 5,
   "metadata": {},
   "outputs": [],
   "source": [
    "import numpy as np\n",
    "import pandas as pd \n",
    "import matplotlib.pyplot as plt\n",
    "import matplotlib.cm as cm\n",
    "import seaborn as sns \n",
    "from sklearn import datasets \n",
    "random_state = 10\n",
    "from sklearn.decomposition import PCA \n",
    "# importing clustering algorithms \n",
    "from sklearn.cluster import KMeans\n",
    "from sklearn.mixture import GaussianMixture \n",
    "from sklearn.cluster import AgglomerativeClustering \n",
    "from sklearn.cluster import DBSCAN\n",
    "from sklearn.cluster import SpectralClustering\n",
    "from sklearn.metrics import silhouette_samples\n",
    "from scipy.linalg import svd \n",
    "from sklearn.discriminant_analysis import LinearDiscriminantAnalysis"
   ]
  },
  {
   "cell_type": "code",
   "execution_count": 11,
   "metadata": {},
   "outputs": [],
   "source": [
    "url  = \"https://archive.ics.uci.edu/ml/machine-learning-databases/00422/wifi_localization.txt\"\n",
    "tae = np.loadtxt(url); \n",
    "df = pd.DataFrame(tae,dtype = int) \n",
    "names = [\"Wifi1\",\"Wifi2\",\"Wifi3\",\"Wifi4\",\"Wifi5\",\"Wifi6\",\"Wifi7\",\"Room\"]\n",
    "df.columns = names"
   ]
  },
  {
   "cell_type": "code",
   "execution_count": 12,
   "metadata": {},
   "outputs": [],
   "source": [
    "df_X = df.iloc[:,:7]\n",
    "df_Y = df[\"Room\"]"
   ]
  },
  {
   "cell_type": "code",
   "execution_count": 13,
   "metadata": {},
   "outputs": [],
   "source": [
    "#chosen Data set \n",
    "#Dataset : Wireless Indoor Localization Data Set"
   ]
  },
  {
   "cell_type": "markdown",
   "metadata": {},
   "source": [
    "#about the Data set <br>\n",
    "The dataset consists of different wifi signals measured from a mobile in an indoor space in different rooms. \n",
    "Based on the strength of the wifi signals it is to determine the one of the location in the indoor space\n",
    "<br> there are 7 types attributes and  4 classes it was collected by Rajen Bhatt. \n",
    "<br>This data was collected from a mobile measuring the wifi signal strength at different locations in indoorspac"
   ]
  },
  {
   "cell_type": "code",
   "execution_count": 14,
   "metadata": {},
   "outputs": [
    {
     "data": {
      "text/plain": [
       "(2000, 7)"
      ]
     },
     "execution_count": 14,
     "metadata": {},
     "output_type": "execute_result"
    }
   ],
   "source": [
    "#shape of dataset\n",
    "df_X.shape"
   ]
  },
  {
   "cell_type": "markdown",
   "metadata": {},
   "source": [
    "The Goal is to find the location of one of the rooms in the indoor space<br> Insights: <br>we can track the location of the person bounded in a region through signals.<br> we can track the location of electronic gadgets if we misplace it with the strength of the signals.<br> monitoring the devices from that region based on the wifi signal strength. <br>counting the number of devices in the location by these signals"
   ]
  },
  {
   "cell_type": "markdown",
   "metadata": {},
   "source": [
    "#tasks wants to perform <br>\n",
    "Linear Discrimanant Analysis and Gaussian MIxtrue Mode"
   ]
  },
  {
   "cell_type": "markdown",
   "metadata": {},
   "source": [
    "Reasons for not selecting other models"
   ]
  },
  {
   "cell_type": "markdown",
   "metadata": {},
   "source": [
    "Kmeans,GMM, DBscan,and complete clustering. <br>\n",
    "    Performing the mining task with these methods it found that by using Kmeans the clusters were able to form very well.<br> i selected GMM method because the dataset seems to be gobular when i visualized, where it performed well.<br> since the GMM ability to form elongated shaped clusters is simillar and more advantage to Kmeans foor this data.<br> so i selected GMM for clustering the other algorithms i selected is db scan and complete clustering.<br> complete clustering was very good in forming the clusters but more than the complete clustering GMM was good.<br> Dbscan failed to form the clusters as the densities in the data is varying and failed to form the correct clusters."
   ]
  },
  {
   "cell_type": "code",
   "execution_count": null,
   "metadata": {},
   "outputs": [],
   "source": []
  }
 ],
 "metadata": {
  "kernelspec": {
   "display_name": "Python 3",
   "language": "python",
   "name": "python3"
  },
  "language_info": {
   "codemirror_mode": {
    "name": "ipython",
    "version": 3
   },
   "file_extension": ".py",
   "mimetype": "text/x-python",
   "name": "python",
   "nbconvert_exporter": "python",
   "pygments_lexer": "ipython3",
   "version": "3.7.4"
  }
 },
 "nbformat": 4,
 "nbformat_minor": 2
}
